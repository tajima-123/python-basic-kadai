{
  "nbformat": 4,
  "nbformat_minor": 0,
  "metadata": {
    "colab": {
      "provenance": []
    },
    "kernelspec": {
      "name": "python3",
      "display_name": "Python 3"
    },
    "language_info": {
      "name": "python"
    }
  },
  "cells": [
    {
      "cell_type": "code",
      "execution_count": 1,
      "metadata": {
        "colab": {
          "base_uri": "https://localhost:8080/"
        },
        "id": "A15-OpoOCozB",
        "outputId": "03365a9a-e6dc-40fe-8b5e-03adbc6fa0e2"
      },
      "outputs": [
        {
          "output_type": "stream",
          "name": "stdout",
          "text": [
            "名前: たろう\n",
            "年齢: 25\n"
          ]
        }
      ],
      "source": [
        "class Human:\n",
        "    def __init__(self, name, age):\n",
        "        self.name = name  # 名前の属性\n",
        "        self.age = age    # 年齢の属性\n",
        "\n",
        "    def printinfo(self):\n",
        "        print(f\"名前: {self.name}\")\n",
        "        print(f\"年齢: {self.age}\")\n",
        "\n",
        "# クラスのインスタンスを作成し、変数に代入\n",
        "person = Human(\"たろう\", 25)\n",
        "\n",
        "# メソッドを使って情報を出力\n",
        "person.printinfo()\n"
      ]
    }
  ]
}