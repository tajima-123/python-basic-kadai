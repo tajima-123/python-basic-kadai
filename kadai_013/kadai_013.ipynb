{
  "nbformat": 4,
  "nbformat_minor": 0,
  "metadata": {
    "colab": {
      "provenance": []
    },
    "kernelspec": {
      "name": "python3",
      "display_name": "Python 3"
    },
    "language_info": {
      "name": "python"
    }
  },
  "cells": [
    {
      "cell_type": "code",
      "execution_count": 1,
      "metadata": {
        "colab": {
          "base_uri": "https://localhost:8080/"
        },
        "id": "KXq70RxW-FMP",
        "outputId": "6057edcd-0f50-4f74-d8e4-1a6754a6f0df"
      },
      "outputs": [
        {
          "output_type": "stream",
          "name": "stdout",
          "text": [
            "121.0\n"
          ]
        }
      ],
      "source": [
        "def calc_tax_price(price, tax_rate):\n",
        "  return price + (price * tax_rate / 100)\n",
        "\n",
        "result = calc_tax_price(110, 10)\n",
        "print(result)"
      ]
    }
  ]
}